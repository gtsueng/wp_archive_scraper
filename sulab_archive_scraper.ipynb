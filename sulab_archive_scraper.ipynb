{
 "cells": [
  {
   "cell_type": "markdown",
   "id": "e321bfcf",
   "metadata": {},
   "source": [
    "### Archived pages conversion"
   ]
  },
  {
   "cell_type": "code",
   "execution_count": 8,
   "id": "d3e7014e-4717-47f2-82eb-9e2fdfc78188",
   "metadata": {},
   "outputs": [],
   "source": [
    "from bs4 import BeautifulSoup, SoupStrainer\n",
    "import os\n",
    "import requests\n"
   ]
  },
  {
   "cell_type": "code",
   "execution_count": 52,
   "id": "c65eb7b5",
   "metadata": {},
   "outputs": [],
   "source": [
    "script_path = os.getcwd()\n",
    "data_path = os.path.join(script_path,'data')\n",
    "intranet_path = os.path.join(data_path,'intranet')\n",
    "ppl_path = os.path.join(data_path,'people')\n",
    "start_key = '<div class=\"et_pb_text_inner\">'"
   ]
  },
  {
   "cell_type": "code",
   "execution_count": 6,
   "id": "f5a58dc2",
   "metadata": {},
   "outputs": [],
   "source": [
    "r = requests.get(base_url)\n",
    "rhtml = BeautifulSoup(r.text, 'html.parser')"
   ]
  },
  {
   "cell_type": "code",
   "execution_count": 59,
   "id": "5ec6fda6",
   "metadata": {},
   "outputs": [
    {
     "name": "stdout",
     "output_type": "stream",
     "text": [
      "['https://archive.sulab.org/intranet/su-lab-member-welcome-page/', 'https://archive.sulab.org/intranet/preparing-for-your-move-to-san-diego/', 'https://archive.sulab.org/intranet/lunch-options/', 'https://archive.sulab.org/intranet/group-meeting-schedule/', 'https://archive.sulab.org/intranet/interviewing-notes/', 'https://archive.sulab.org/intranet/scripps-research-travel-reimbursement-policies/', 'https://archive.sulab.org/intranet/conferences-and-training', 'https://archive.sulab.org/intranet/poster-printing/', 'https://archive.sulab.org/intranet/group-committees/', 'https://archive.sulab.org/intranet/titles-and-honorifics/', 'https://archive.sulab.org/intranet/names-and-pronouns', 'https://archive.sulab.org/intranet/organizing-science-projects/', 'https://archive.sulab.org/intranet/coding-standards/', 'https://archive.sulab.org/intranet/giving-great-talks', 'https://archive.sulab.org/intranet/using-amazon-web-services/', 'https://archive.sulab.org/intranet/safety-and-security/']\n"
     ]
    }
   ],
   "source": [
    "## Get url links from base page\n",
    "def clean_links(base_type,base_url):\n",
    "    r = requests.get(base_url)\n",
    "    linklist = []\n",
    "    for link in BeautifulSoup(r.text, 'html.parser', parse_only=SoupStrainer('a')):\n",
    "        if link.has_attr('href'):\n",
    "            linklist.append(link['href'])\n",
    "    tmp_links = [x for x in linklist if base_type in x]\n",
    "    usable_links = [x.replace(\"http://\",\"https://\").replace(\"https://\",\"https://archive.\") for x in tmp_links]\n",
    "    return usable_links\n",
    "\n",
    "## Test modules\n",
    "base_dict = {\"intranet\":\"https://archive.sulab.org/intranet/\",\"author\":\"https://archive.sulab.org/the-team/\"}\n",
    "base_type = list(base_dict.keys())[0]\n",
    "base_url = base_dict[base_type]\n",
    "usable_links = clean_links(base_type,base_url)\n",
    "print(usable_links)"
   ]
  },
  {
   "cell_type": "code",
   "execution_count": 53,
   "id": "5fbc8436",
   "metadata": {},
   "outputs": [
    {
     "name": "stdout",
     "output_type": "stream",
     "text": [
      "https://archive.sulab.org/intranet/su-lab-member-welcome-page/\n",
      "https:archive.sulab.orgintranetsu-lab-member-welcome-page\n",
      "---\n",
      "title: Welcome to the Su Lab!\n",
      "---\n",
      "{% include breadcrumbs.html %}\n",
      "\n",
      "\n",
      "We’re excited to have you joi\n"
     ]
    }
   ],
   "source": [
    "## parse and save page content as a markdown file\n",
    "\n",
    "def parse_url_name(url_link):\n",
    "    url_name = url_link.replace(\"https://archive.sulab.org/intranet/\",\"\").replace(\"/\",\"\")\n",
    "    url_name = url_link.replace(\"https://archive.sulab.org/author/\",\"\").replace(\"/\",\"\")\n",
    "    return url_name\n",
    "\n",
    "def get_content(url_link):\n",
    "    r = requests.get(url_link)\n",
    "    r_page = BeautifulSoup(r.text, 'html.parser')\n",
    "    r_content = r_page.select('div.et_pb_text_inner')[0]\n",
    "    return r_content\n",
    "    \n",
    "def convert_text(r_content):\n",
    "    headtext = r_content.h1.get_text()\n",
    "    bodytext = r_content.get_text()\n",
    "    lesshead = bodytext.replace(headtext,\"\")\n",
    "    clean_text = \"---\\ntitle: \" + headtext + '\\n---\\n{% include breadcrumbs.html %}\\n\\n' + lesshead\n",
    "    return clean_text\n",
    "\n",
    "## Test modules\n",
    "test_link = usable_links[0]\n",
    "print(test_link)\n",
    "file_name = parse_url_name(test_link)\n",
    "test_content = get_content(test_link)\n",
    "clean_test = convert_text(test_content)\n",
    "print(file_name)\n",
    "print(clean_test[0:100])"
   ]
  },
  {
   "cell_type": "code",
   "execution_count": 51,
   "id": "862803f2",
   "metadata": {},
   "outputs": [
    {
     "name": "stdout",
     "output_type": "stream",
     "text": [
      "failed:  https://archive.sulab.org/intranet/group-meeting-schedule/\n"
     ]
    }
   ],
   "source": [
    "def make_files(data_path,usable_links):\n",
    "    for eachlink in usable_links:\n",
    "        try:\n",
    "            each_content = get_content(eachlink)\n",
    "            file_name = parse_url_name(eachlink)\n",
    "            clean_text = convert_text(each_content)\n",
    "            with open(os.path.join(data_path,f\"{file_name}.md\"),'w') as outwrite:\n",
    "                outwrite.write(clean_text)\n",
    "        except:\n",
    "            print(\"failed: \", eachlink)\n",
    "\n",
    "make_files(intranet_path,usable_links)"
   ]
  },
  {
   "cell_type": "code",
   "execution_count": null,
   "id": "715941da",
   "metadata": {},
   "outputs": [],
   "source": []
  }
 ],
 "metadata": {
  "kernelspec": {
   "display_name": "Python 3 (ipykernel)",
   "language": "python",
   "name": "python3"
  },
  "language_info": {
   "codemirror_mode": {
    "name": "ipython",
    "version": 3
   },
   "file_extension": ".py",
   "mimetype": "text/x-python",
   "name": "python",
   "nbconvert_exporter": "python",
   "pygments_lexer": "ipython3",
   "version": "3.10.10"
  }
 },
 "nbformat": 4,
 "nbformat_minor": 5
}
